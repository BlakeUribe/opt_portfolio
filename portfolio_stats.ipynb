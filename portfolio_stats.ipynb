{
 "cells": [
  {
   "cell_type": "markdown",
   "metadata": {},
   "source": [
    "This notebook will:\n",
    "- Extract CSV Data: Obtain a CSV file of the respective holders using M1 Finance's built-in CSV export feature.\n",
    "- Calculate Metrics: Add Beta and Standard Deviation to the data for the respective time frequencies.\n",
    "- Export Portfolio Stats: Save the final portfolio statistics to a file upon completion.\n",
    "- Plot Analysis: Visualize total risk and return over a specified time frame.\n",
    "- Note: \n",
    "    - This notebook assumes you are using macOS \n",
    "    - That the file is downloaded to the Desktop, and relfects todays date"
   ]
  },
  {
   "cell_type": "markdown",
   "metadata": {},
   "source": [
    "Libraries"
   ]
  },
  {
   "cell_type": "code",
   "execution_count": 59,
   "metadata": {},
   "outputs": [],
   "source": [
    "from datetime import datetime, timedelta, date\n",
    "import numpy as np\n",
    "import pandas as pd\n",
    "import scipy.stats\n",
    "import yfinance as yf\n",
    "import seaborn as sns\n",
    "import matplotlib.pyplot as plt"
   ]
  },
  {
   "cell_type": "markdown",
   "metadata": {},
   "source": [
    "Global Varibales"
   ]
  },
  {
   "cell_type": "code",
   "execution_count": 60,
   "metadata": {},
   "outputs": [],
   "source": [
    "historical_years = 5\n",
    "time_freq = '1d'\n",
    "\n",
    "# Change start date accordingly \n",
    "todays_date = date.today()\n",
    "start_date = datetime.now() - timedelta(days=historical_years*365)\n",
    "\n",
    "# Put user name here\n",
    "user = ''\n",
    "export_path = f'data/portfolio_info_{todays_date}.csv'\n",
    "\n",
    "# Asjust file path\n",
    "formatted_date = todays_date.strftime('%b-%d-%Y')\n",
    "file_path = f'/Users/{user}/Desktop/Holdings-{formatted_date}.csv'\n",
    "\n",
    "try:\n",
    "    raw_portfolio_df = pd.read_csv(file_path)\n",
    "except FileNotFoundError:\n",
    "    raise FileNotFoundError('Enter User, or select updated CSV file from M1 Finance.')"
   ]
  },
  {
   "cell_type": "markdown",
   "metadata": {},
   "source": [
    "Functions"
   ]
  },
  {
   "cell_type": "code",
   "execution_count": 61,
   "metadata": {},
   "outputs": [],
   "source": [
    "\n",
    "def get_stock_data_w_returns(symbol: str, freq: str=time_freq) -> pd.DataFrame:\n",
    "    # Retrieves stock data for the given ticker and calculates returns\n",
    "\n",
    "    stock_df = yf.download(symbol, start=start_date, end=todays_date, interval=freq, rounding=True)\n",
    "    stock_df['Returns (%)'] = (stock_df['Adj Close'].pct_change() * 100).round(2)\n",
    "    stock_df.reset_index(inplace=True) \n",
    "    stock_df.dropna(inplace=True)\n",
    "    return stock_df\n",
    "\n",
    "def calculate_average_return(symbol: str) -> float:\n",
    "    # Calculates the average returns for the specified stock symbol\n",
    "\n",
    "    stock_df = get_stock_data_w_returns(symbol)\n",
    "    return stock_df['Returns (%)'].mean()\n",
    "\n",
    "def get_stock_beta(symbol: str) -> float:\n",
    "    # Calculates stock beta agains SPY\n",
    "    \n",
    "    stock_returns = get_stock_data_w_returns(symbol)['Returns (%)']\n",
    "    spy_returns = get_stock_data_w_returns('SPY')['Returns (%)']\n",
    "    cov_matrix = np.cov(stock_returns, spy_returns)\n",
    "    cov_stock_spy = cov_matrix[0, 1]\n",
    "    var_spy = np.var(spy_returns)\n",
    "    beta = cov_stock_spy / var_spy\n",
    "    return beta.round(2)\n",
    "\n",
    "def get_stock_std(symbol: str) -> float:\n",
    "    # Calculates stock Standard Deviation agains SPY\n",
    "\n",
    "    stock_returns = get_stock_data_w_returns(symbol)['Returns (%)']\n",
    "    stock_std = np.sqrt(np.var(stock_returns))\n",
    "    return stock_std"
   ]
  },
  {
   "cell_type": "markdown",
   "metadata": {},
   "source": [
    "Data Cleaning, and Manipluation"
   ]
  },
  {
   "cell_type": "code",
   "execution_count": 62,
   "metadata": {},
   "outputs": [
    {
     "name": "stderr",
     "output_type": "stream",
     "text": [
      "[*********************100%%**********************]  1 of 1 completed\n",
      "[*********************100%%**********************]  1 of 1 completed\n",
      "[*********************100%%**********************]  1 of 1 completed\n",
      "[*********************100%%**********************]  1 of 1 completed\n",
      "[*********************100%%**********************]  1 of 1 completed\n",
      "[*********************100%%**********************]  1 of 1 completed\n",
      "[*********************100%%**********************]  1 of 1 completed\n",
      "[*********************100%%**********************]  1 of 1 completed\n",
      "[*********************100%%**********************]  1 of 1 completed\n",
      "[*********************100%%**********************]  1 of 1 completed\n",
      "[*********************100%%**********************]  1 of 1 completed\n",
      "[*********************100%%**********************]  1 of 1 completed\n",
      "[*********************100%%**********************]  1 of 1 completed\n",
      "[*********************100%%**********************]  1 of 1 completed\n",
      "[*********************100%%**********************]  1 of 1 completed\n",
      "[*********************100%%**********************]  1 of 1 completed\n",
      "[*********************100%%**********************]  1 of 1 completed\n",
      "[*********************100%%**********************]  1 of 1 completed\n",
      "[*********************100%%**********************]  1 of 1 completed\n",
      "[*********************100%%**********************]  1 of 1 completed\n",
      "[*********************100%%**********************]  1 of 1 completed\n",
      "[*********************100%%**********************]  1 of 1 completed\n",
      "[*********************100%%**********************]  1 of 1 completed\n",
      "[*********************100%%**********************]  1 of 1 completed\n",
      "[*********************100%%**********************]  1 of 1 completed\n",
      "[*********************100%%**********************]  1 of 1 completed\n",
      "[*********************100%%**********************]  1 of 1 completed\n",
      "[*********************100%%**********************]  1 of 1 completed\n",
      "[*********************100%%**********************]  1 of 1 completed\n",
      "[*********************100%%**********************]  1 of 1 completed\n",
      "[*********************100%%**********************]  1 of 1 completed\n",
      "[*********************100%%**********************]  1 of 1 completed\n",
      "[*********************100%%**********************]  1 of 1 completed\n",
      "[*********************100%%**********************]  1 of 1 completed\n",
      "[*********************100%%**********************]  1 of 1 completed\n",
      "[*********************100%%**********************]  1 of 1 completed\n",
      "[*********************100%%**********************]  1 of 1 completed\n",
      "[*********************100%%**********************]  1 of 1 completed\n",
      "[*********************100%%**********************]  1 of 1 completed\n",
      "[*********************100%%**********************]  1 of 1 completed\n",
      "[*********************100%%**********************]  1 of 1 completed\n",
      "[*********************100%%**********************]  1 of 1 completed\n",
      "[*********************100%%**********************]  1 of 1 completed\n",
      "[*********************100%%**********************]  1 of 1 completed\n"
     ]
    }
   ],
   "source": [
    "raw_portfolio_df['Average_returns'] = raw_portfolio_df['Symbol'].apply(calculate_average_return)\n",
    "raw_portfolio_df['Beta'] = raw_portfolio_df['Symbol'].apply(get_stock_beta)\n",
    "raw_portfolio_df['Standard_dev'] = raw_portfolio_df['Symbol'].apply(get_stock_std)\n",
    "raw_portfolio_df['Total_risk'] = raw_portfolio_df['Beta'] + raw_portfolio_df['Standard_dev']\n",
    "portfolio_df = raw_portfolio_df.copy()\n",
    "portfolio_df.columns = portfolio_df.columns.str.replace(' ', '_')\n",
    "portfolio_df.columns = portfolio_df.columns.str.capitalize()\n",
    "risk_return_df = raw_portfolio_df[['Symbol', 'Average_returns',\t'Beta',\t'Standard_dev',\t'Total_risk']]\n",
    "\n",
    "# portfolio_df"
   ]
  },
  {
   "cell_type": "markdown",
   "metadata": {},
   "source": [
    "File Export"
   ]
  },
  {
   "cell_type": "code",
   "execution_count": 63,
   "metadata": {},
   "outputs": [],
   "source": [
    "portfolio_df.to_csv(f'data/portfolio_stats_{formatted_date}.csv')"
   ]
  },
  {
   "cell_type": "markdown",
   "metadata": {},
   "source": [
    "Plotting"
   ]
  },
  {
   "cell_type": "code",
   "execution_count": 64,
   "metadata": {},
   "outputs": [
    {
     "data": {
      "text/plain": [
       "Text(0.05, -0.025, 'Time frame: 5 yr(s)\\nInterval: 1d')"
      ]
     },
     "execution_count": 64,
     "metadata": {},
     "output_type": "execute_result"
    },
    {
     "data": {
      "image/png": "[encoded data removed]",
      "text/plain": [
       "<Figure size 640x480 with 1 Axes>"
      ]
     },
     "metadata": {},
     "output_type": "display_data"
    }
   ],
   "source": [
    "sns.set_style('darkgrid')\n",
    "plt.style.use('dark_background')\n",
    "\n",
    "# Create scatter plot\n",
    "sns.scatterplot(\n",
    "    data=risk_return_df, x='Total_risk', y='Average_returns', \n",
    "    color='lightblue', legend=None, s=65, edgecolor='white',\n",
    ")\n",
    "\n",
    "# Annotate the symbols\n",
    "symbol_positions = {}\n",
    "for index, row in risk_return_df.iterrows():\n",
    "    x, y = row['Total_risk'], row['Average_returns']\n",
    "    symbol = row['Symbol']\n",
    "    \n",
    "    if (x, y) in symbol_positions.values():\n",
    "        for i in range(1, len(symbol) + 1):\n",
    "            if (x, y - i * 0.05) not in symbol_positions.values():\n",
    "                y -= i * 0.05\n",
    "                break\n",
    "    symbol_positions[symbol] = (x, y)\n",
    "    plt.text(x, y, symbol, ha='right', va='top', fontsize=8, color='white')\n",
    "\n",
    "# Add axis labels and title\n",
    "plt.xlabel('Total Risk', fontsize=9)\n",
    "plt.ylabel('Average Return (%)', fontsize=9)\n",
    "plt.title('Historical Risk & Return', fontsize=11)\n",
    "\n",
    "# Add text box with time frame and period\n",
    "textstr = f'Time frame: {historical_years} yr(s)\\nInterval: {time_freq}'\n",
    "props = dict(boxstyle='round', facecolor='white', alpha=0.5)\n",
    "plt.gcf().text(0.05, -0.025, textstr, fontsize=9, bbox=props)"
   ]
  }
 ],
 "metadata": {
  "kernelspec": {
   "display_name": "opt_stock",
   "language": "python",
   "name": "python3"
  },
  "language_info": {
   "codemirror_mode": {
    "name": "ipython",
    "version": 3
   },
   "file_extension": ".py",
   "mimetype": "text/x-python",
   "name": "python",
   "nbconvert_exporter": "python",
   "pygments_lexer": "ipython3",
   "version": "3.11.5"
  }
 },
 "nbformat": 4,
 "nbformat_minor": 2
}
